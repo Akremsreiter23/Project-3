{
 "cells": [
  {
   "cell_type": "markdown",
   "id": "07d08828-39be-453d-9c15-7d0737ceb72f",
   "metadata": {},
   "source": [
    "## Module_3: *(Template)*\n",
    "\n",
    "## Team Members:\n",
    "Esther & Alexander \n",
    "\n",
    "## Project Title:\n",
    "*(Fill in)*\n",
    "\n"
   ]
  },
  {
   "cell_type": "markdown",
   "id": "8372d796-186a-4ae2-9b4f-0065979e555a",
   "metadata": {},
   "source": [
    "## Project Goal:\n",
    "This project seeks to... *(what is the purpose of your project -- i.e., describe the question that you seek to answer by analyzing data.)*"
   ]
  },
  {
   "attachments": {},
   "cell_type": "markdown",
   "id": "91408b75-185a-4d66-9ce7-7c7aabbde5e1",
   "metadata": {},
   "source": [
    "## Disease Background:\n",
    "*Pick a hallmark to focus on, and figure out what genes you are interested in researching based on that decision. Then fill out the information below.*\n",
    "\n",
    "* Cancer hallmark focus: Tissue Invasion and Metastasis\n",
    "* Overview of hallmark: This hallmark refers to the ability of cancer cells to detach from the original tumor, invade surrounding tissue, enter and travel througn the bloodstream and lymphatic system, and create new tumors in other parts of the body. \n",
    "* Genes associated with hallmark to be studied (describe the role of each gene, signaling pathway, or gene set you are going to investigate): \n",
    "The gene that we will try to investiage would be the CDH1 gene, which encodes for E-adherin that maintains cell adhesion. With the loss of CDH1 cell adhesion is disrupted and it allows tumor cells to detach and migrate. \n",
    "\n",
    "*Will you be focusing on a single cancer type or looking across cancer types? Depending on your decision, update this section to include relevant information about the disease at the appropriate level of detail. Regardless, each bullet point should be filled in. If you are looking at multiple cancer types, you should investigate differences between the types (e.g. what is the most prevalent cancer type? What type has the highest mortality rate?) and similarities (e.g. what sorts of treatments exist across the board for cancer patients? what is common to all cancers in terms of biological mechanisms?). Note that this is a smaller list than the initial 11 in Module 1.*\n",
    "\n",
    "Currently, we plan to look across different types of metastatic cancer, such as breast, lung, prostate, and possible melanoma(skin) cancer. \n",
    "\n",
    "* Prevalence & incidence:https://www.cancer.org/cancer/survivorship/cancer-prevalence.html \n",
    "https://www.cancer.gov/types/common-cancers\n",
    "- Cancer prevalence is about 18.6 million people that are living in the United States. The most prevalent cancer type that we have chosen is breast cancer for females and prostate cancer for males. In 2025, the incidence for all cancer is about 2,041,910 new cancer cases. The incidence for breast cancer is 316,950 and for prostate cancer is about 313,780. \n",
    "\n",
    "* Risk factors (genetic, lifestyle) & Societal determinants https://www.cancer.gov/about-cancer/causes-prevention/risk\n",
    "Risk factors that are included as age, alchol, cancer-causing substance, chronic inflamation, diet, hormones, immunosuppression, infectious agents, obesity, radiation, sunlight, and tobacco. \n",
    "* Standard of care treatments (& reimbursement) https://jnccn.org/configurable/content/journals$002fjnccn$002f22$002f5$002farticle-p331.xml?t:ac=journals%24002fjnccn%24002f22%24002f5%24002farticle-p331.xml\n",
    "The standard of care for treatment include surgery for removal, radiation, chemotheraphy, targeted molecular therapies, and immunotherapy. \n",
    "* Biological mechanisms (anatomy, organ physiology, cell & molecular physiology)https://geoniti.com/articles/cancer-cell-development-mechanisms-implications/\n",
    "Breast cancer spreads through the axillary lymph nodes into the bloodstreams, then to the bone, liver, lungs and brain. In prostate cancer, it quickly metastasizes to bone. The key mechanism in cancer development include the genetic mutation that disrupts the normal cellular function. These mutation leads to uncontrolled cell proliferation. Additionally, cancer cells are able to negate the normal signalling pathways and promote their own growth and survival. "
   ]
  },
  {
   "cell_type": "markdown",
   "id": "3b99aefb-cb03-4bd8-b972-437eb0e02dfe",
   "metadata": {},
   "source": [
    "## Data-Set: \n",
    "\n",
    "*Once you decide on the subset of data you want to use (i.e. only 1 cancer type or many; any clinical features needed?; which genes will you look at?) describe the dataset. There are a ton of clinical features, so you don't need to describe them all, only the ones pertinent to your question.*\n",
    "\n",
    "*(Describe the data set(s) you will analyze. Cite the source(s) of the data. Describe how the data was collected -- What techniques were used? What units are the data measured in? Etc.)*"
   ]
  },
  {
   "cell_type": "markdown",
   "id": "f4cde622-5508-4a54-aba8-77b454138bff",
   "metadata": {},
   "source": [
    "## Data Analyis: \n",
    "\n",
    "### Methods\n",
    "The machine learning technique I am using is: *fill in and describe*\n",
    "\n",
    "*What is this method optimizing? How does the model decide it is \"good enough\"?*\n",
    "\n",
    "**\n",
    "\n",
    "### Analysis\n",
    "*(Describe how you analyzed the data. This is where you should intersperse your Python code so that anyone reading this can run your code to perform the analysis that you did, generate your figures, etc.)*"
   ]
  },
  {
   "cell_type": "markdown",
   "id": "5c67b6a4-ec94-4d28-b2a7-f6b860495118",
   "metadata": {},
   "source": [
    "## Verify and validate your analysis: \n",
    "*Pick a SPECIFIC method to determine how well your model is performing and describe how it works here.*\n",
    "\n",
    "*(Describe how you checked to see that your analysis gave you an answer that you believe (verify). Describe how your determined if your analysis gave you an answer that is supported by other evidence (e.g., a published paper).*"
   ]
  },
  {
   "cell_type": "markdown",
   "id": "2736cf95-2b93-444f-90c8-d40a54fc1df1",
   "metadata": {},
   "source": [
    "## Conclusions and Ethical Implications: \n",
    "*(Think about the answer your analysis generated, draw conclusions related to your overarching question, and discuss the ethical implications of your conclusions.*"
   ]
  },
  {
   "cell_type": "markdown",
   "id": "f023b735-6efb-43ed-a03d-eb4a9cdb734e",
   "metadata": {},
   "source": [
    "## Limitations and Future Work: \n",
    "*(Think about the answer your analysis generated, draw conclusions related to your overarching question, and discuss the ethical implications of your conclusions.*"
   ]
  },
  {
   "cell_type": "markdown",
   "id": "d9295960-2404-43dc-b46f-9a6f823f1657",
   "metadata": {},
   "source": [
    "## NOTES FROM YOUR TEAM: \n",
    "*This is where our team is taking notes and recording activity.*"
   ]
  },
  {
   "cell_type": "markdown",
   "id": "bd725b7f-9741-46b6-a213-9518da9201c3",
   "metadata": {},
   "source": [
    "## QUESTIONS FOR YOUR TA: \n",
    "*These are questions we have for our TA.*"
   ]
  },
  {
   "cell_type": "code",
   "execution_count": null,
   "id": "0d0190cf-c056-4b2c-a0c0-a56dfb854a55",
   "metadata": {},
   "outputs": [],
   "source": []
  }
 ],
 "metadata": {
  "kernelspec": {
   "display_name": "Python [conda env:base] *",
   "language": "python",
   "name": "conda-base-py"
  },
  "language_info": {
   "codemirror_mode": {
    "name": "ipython",
    "version": 3
   },
   "file_extension": ".py",
   "mimetype": "text/x-python",
   "name": "python",
   "nbconvert_exporter": "python",
   "pygments_lexer": "ipython3",
   "version": "3.13.5"
  }
 },
 "nbformat": 4,
 "nbformat_minor": 5
}
